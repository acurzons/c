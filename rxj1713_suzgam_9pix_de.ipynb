{
 "cells": [
  {
   "cell_type": "code",
   "execution_count": 124,
   "metadata": {},
   "outputs": [],
   "source": [
    "import numpy as np\n",
    "from astropy.io import fits\n",
    "from astropy import units as u\n",
    "from astropy import coordinates as coord\n",
    "from astropy.coordinates import ICRS, Galactic, FK4, FK5\n",
    "import matplotlib.pyplot as plt\n",
    "import matplotlib.cm as cm\n",
    "from astropy.wcs import WCS, utils\n",
    "from astropy.visualization.wcsaxes import WCSAxes\n",
    "from astropy.io import fits\n",
    "from matplotlib.patches import Rectangle\n",
    "from scipy.stats import pearsonr\n",
    "from scipy.stats import spearmanr\n",
    "from fit_str8_line import str8_line\n",
    "from astropy.io import ascii"
   ]
  },
  {
   "cell_type": "code",
   "execution_count": 30,
   "metadata": {},
   "outputs": [
    {
     "name": "stderr",
     "output_type": "stream",
     "text": [
      "WARNING: VerifyWarning: Invalid 'BLANK' keyword in header.  The 'BLANK' keyword is only applicable to integer data, and will be ignored in this HDU. [astropy.io.fits.hdu.image]\n"
     ]
    }
   ],
   "source": [
    "filename1 = '../DS9/rxj1713_suz_9pix.fits'\n",
    "hdu1 = fits.open(filename1)\n",
    "suzaku_data = hdu1[0].data\n",
    "suzaku_header = hdu1[0].header\n",
    "\n",
    "filename2 = '../DS9/rxj1713_hess_rebin.fits'\n",
    "hdu2 = fits.open(filename2)\n",
    "hess_data =hdu2[0].data\n",
    "hess_header = hdu2[0].header"
   ]
  },
  {
   "cell_type": "code",
   "execution_count": 27,
   "metadata": {},
   "outputs": [
    {
     "data": {
      "image/png": "[encoded data removed]",
      "text/plain": [
       "<Figure size 432x288 with 1 Axes>"
      ]
     },
     "metadata": {},
     "output_type": "display_data"
    },
    {
     "data": {
      "image/png": "[encoded data removed]",
      "text/plain": [
       "<Figure size 432x288 with 1 Axes>"
      ]
     },
     "metadata": {},
     "output_type": "display_data"
    },
    {
     "data": {
      "image/png": "[encoded data removed]",
      "text/plain": [
       "<Figure size 432x288 with 1 Axes>"
      ]
     },
     "metadata": {},
     "output_type": "display_data"
    },
    {
     "data": {
      "image/png": "[encoded data removed]",
      "text/plain": [
       "<Figure size 432x288 with 1 Axes>"
      ]
     },
     "metadata": {},
     "output_type": "display_data"
    }
   ],
   "source": [
    "suzaku_data2 = suzaku_data[~np.isnan(suzaku_data)]\n",
    "hess_data2 = hess_data[~np.isnan(hess_data)]\n",
    "sigma_s = np.percentile(suzaku_data2,50) - np.percentile(suzaku_data2,68.26/2)\n",
    "sigma_h = np.percentile(hess_data2,50) - np.percentile(hess_data2,68.26/2)\n",
    "suzaku_data3 = [i for i in suzaku_data2 if i >= sigma_s]\n",
    "hess_data3 = [i for i in hess_data2 if i >= sigma_h]\n",
    "\n",
    "#use range option in plt.hist when you have nan in your data\n",
    "fig = plt.figure()\n",
    "ax = fig.add_subplot(111)\n",
    "plt.hist(suzaku_data2, bins=31)\n",
    "plt.axvline(np.percentile(suzaku_data2,50), color = 'g', ls = \"-\")\n",
    "plt.axvline(np.percentile(suzaku_data2,68.26/2.0), color = 'k', ls = \"--\")\n",
    "plt.text(0.7, 0.9, '1$\\sigma$ = {:1.2e}'.format(sigma_s), size=12, transform=ax.transAxes, bbox=dict(facecolor='white'))\n",
    "plt.show()\n",
    "plt.hist(suzaku_data3, bins=31)\n",
    "plt.show()\n",
    "\n",
    "fig = plt.figure()\n",
    "ax = fig.add_subplot(111)\n",
    "plt.hist(hess_data2, bins=31)\n",
    "plt.axvline(np.percentile(hess_data2,50), color = 'g', ls = \"-\")\n",
    "plt.axvline(np.percentile(hess_data2,68.26/2.0), color = 'k', ls = \"--\")\n",
    "plt.text(0.7, 0.9, '1$\\sigma$ = {:1.2e}'.format(sigma_h), size=12, transform=ax.transAxes, bbox=dict(facecolor='white'))\n",
    "plt.show()\n",
    "plt.hist(hess_data3, bins=41)\n",
    "plt.show()\n",
    "\n"
   ]
  },
  {
   "cell_type": "code",
   "execution_count": 95,
   "metadata": {},
   "outputs": [
    {
     "data": {
      "text/plain": [
       "array([1.4927626e-05, 1.5272182e-05], dtype=float32)"
      ]
     },
     "execution_count": 95,
     "metadata": {},
     "output_type": "execute_result"
    }
   ],
   "source": [
    "# order the fits data for each region according to ascending region number\n",
    "s_data = []\n",
    "h_data = []\n",
    "\n",
    "s_data.append(suzaku_data[47:50,34:37].flatten())\n",
    "s_data.append(suzaku_data[47:50,37:40].flatten())\n",
    "s_data.append(suzaku_data[47:50,40:43].flatten())\n",
    "s_data.append(suzaku_data[47:50,43:46].flatten())\n",
    "\n",
    "s_data.append(suzaku_data[44:47,31:34].flatten())\n",
    "s_data.append(suzaku_data[44:47,34:37].flatten())\n",
    "s_data.append(suzaku_data[44:47,37:40].flatten())\n",
    "s_data.append(suzaku_data[44:47,40:43].flatten())\n",
    "s_data.append(suzaku_data[44:47,43:46].flatten())\n",
    "s_data.append(suzaku_data[44:47,46:49].flatten())\n",
    "\n",
    "s_data.append(suzaku_data[41:44,31:34].flatten())\n",
    "s_data.append(suzaku_data[41:44,34:37].flatten())\n",
    "s_data.append(suzaku_data[41:44,37:40].flatten())\n",
    "s_data.append(suzaku_data[41:44,40:43].flatten())\n",
    "s_data.append(suzaku_data[41:44,43:46].flatten())\n",
    "s_data.append(suzaku_data[41:44,46:49].flatten())\n",
    "\n",
    "s_data.append(suzaku_data[38:41,31:34].flatten())\n",
    "s_data.append(suzaku_data[38:41,34:37].flatten())\n",
    "s_data.append(suzaku_data[38:41,37:40].flatten())\n",
    "s_data.append(suzaku_data[38:41,40:43].flatten())\n",
    "s_data.append(suzaku_data[38:41,43:46].flatten())\n",
    "s_data.append(suzaku_data[38:41,46:49].flatten())\n",
    "\n",
    "s_data.append(suzaku_data[35:38,31:34].flatten())\n",
    "s_data.append(suzaku_data[35:38,34:37].flatten())\n",
    "s_data.append(suzaku_data[35:38,37:40].flatten())\n",
    "s_data.append(suzaku_data[35:38,40:43].flatten())\n",
    "s_data.append(suzaku_data[35:38,43:46].flatten())\n",
    "\n",
    "s_data.append(suzaku_data[32:35,37:40].flatten())\n",
    "s_data.append(suzaku_data[32:35,40:43].flatten())\n",
    "\n",
    "\n",
    "h_data.append(hess_data[47:50,34:37].flatten())\n",
    "h_data.append(hess_data[47:50,37:40].flatten())\n",
    "h_data.append(hess_data[47:50,40:43].flatten())\n",
    "h_data.append(hess_data[47:50,43:46].flatten())\n",
    "\n",
    "h_data.append(hess_data[44:47,31:34].flatten())\n",
    "h_data.append(hess_data[44:47,34:37].flatten())\n",
    "h_data.append(hess_data[44:47,37:40].flatten())\n",
    "h_data.append(hess_data[44:47,40:43].flatten())\n",
    "h_data.append(hess_data[44:47,43:46].flatten())\n",
    "h_data.append(hess_data[44:47,46:49].flatten())\n",
    "\n",
    "h_data.append(hess_data[41:44,31:34].flatten())\n",
    "h_data.append(hess_data[41:44,34:37].flatten())\n",
    "h_data.append(hess_data[41:44,37:40].flatten())\n",
    "h_data.append(hess_data[41:44,40:43].flatten())\n",
    "h_data.append(hess_data[41:44,43:46].flatten())\n",
    "h_data.append(hess_data[41:44,46:49].flatten())\n",
    "\n",
    "h_data.append(hess_data[38:41,31:34].flatten())\n",
    "h_data.append(hess_data[38:41,34:37].flatten())\n",
    "h_data.append(hess_data[38:41,37:40].flatten())\n",
    "h_data.append(hess_data[38:41,40:43].flatten())\n",
    "h_data.append(hess_data[38:41,43:46].flatten())\n",
    "h_data.append(hess_data[38:41,46:49].flatten())\n",
    "\n",
    "h_data.append(hess_data[35:38,31:34].flatten())\n",
    "h_data.append(hess_data[35:38,34:37].flatten())\n",
    "h_data.append(hess_data[35:38,37:40].flatten())\n",
    "h_data.append(hess_data[35:38,40:43].flatten())\n",
    "h_data.append(hess_data[35:38,43:46].flatten())\n",
    "\n",
    "h_data.append(hess_data[32:35,37:40].flatten())\n",
    "h_data.append(hess_data[32:35,40:43].flatten())\n",
    "\n",
    "#remove x-ray points with nan or that are noisey and corresponding hess data points\n",
    "n = len(s_data[0])\n",
    "for i in range(29):\n",
    "    k = 0\n",
    "    for j in range(n):\n",
    "        if np.isfinite(s_data[i][k]) == False or s_data[i][k] < sigma_s:\n",
    "            s_data[i] = np.delete(s_data[i], k, axis=0)\n",
    "            h_data[i] = np.delete(h_data[i], k, axis=0)\n",
    "            k = k - 1\n",
    "        k = k + 1\n",
    "s_data[27]"
   ]
  },
  {
   "cell_type": "code",
   "execution_count": 125,
   "metadata": {},
   "outputs": [
    {
     "name": "stdout",
     "output_type": "stream",
     "text": [
      "reg.1: r = 0.81, p = 0.0147, s = 0.81, sp = 0.0149, 2sig=Yes, 3sig=No\n",
      "reg.2: r = 0.93, p = 0.0026, s = 0.96, sp = 0.0005, 2sig=Yes, 3sig=Yes\n",
      "reg.3: r = 0.60, p = 0.1167, s = 0.60, sp = 0.1195, 2sig=No, 3sig=No\n",
      "reg.4: r = 0.95, p = 0.0013, s = 0.89, sp = 0.0068, 2sig=Yes, 3sig=Yes\n",
      "reg.5: r = 0.62, p = 0.3830, s = 0.80, sp = 0.2000, 2sig=No, 3sig=No\n",
      "reg.6: r = 0.39, p = 0.3451, s = 0.40, sp = 0.3199, 2sig=No, 3sig=No\n",
      "reg.7: r = -0.44, p = 0.2343, s = -0.52, sp = 0.1544, 2sig=No, 3sig=No\n",
      "reg.8: r = 0.62, p = 0.1016, s = 0.31, sp = 0.4556, 2sig=No, 3sig=No\n",
      "reg.9: r = 0.86, p = 0.0030, s = 0.93, sp = 0.0002, 2sig=Yes, 3sig=No\n",
      "reg.10: r = 0.87, p = 0.0024, s = 0.85, sp = 0.0037, 2sig=Yes, 3sig=Yes\n",
      "reg.11: r = 0.82, p = 0.0447, s = 0.71, sp = 0.1108, 2sig=Yes, 3sig=No\n",
      "reg.12: r = 0.60, p = 0.0893, s = 0.63, sp = 0.0671, 2sig=No, 3sig=No\n",
      "reg.13: r = 0.77, p = 0.0150, s = 0.72, sp = 0.0298, 2sig=Yes, 3sig=No\n",
      "reg.14: r = 0.20, p = 0.5994, s = 0.23, sp = 0.5457, 2sig=No, 3sig=No\n",
      "reg.15: r = 0.69, p = 0.0391, s = 0.53, sp = 0.1392, 2sig=Yes, 3sig=No\n",
      "reg.16: r = 0.38, p = 0.3113, s = 0.47, sp = 0.2054, 2sig=No, 3sig=No\n",
      "reg.17: r = 0.40, p = 0.5042, s = 0.60, sp = 0.2848, 2sig=No, 3sig=No\n",
      "reg.18: r = 0.83, p = 0.0059, s = 0.85, sp = 0.0037, 2sig=Yes, 3sig=No\n",
      "reg.19: r = 0.11, p = 0.7813, s = 0.12, sp = 0.7650, 2sig=No, 3sig=No\n",
      "reg.20: r = 0.47, p = 0.2919, s = 0.39, sp = 0.3833, 2sig=No, 3sig=No\n",
      "reg.21: r = 0.81, p = 0.0076, s = 0.65, sp = 0.0581, 2sig=Yes, 3sig=No\n",
      "reg.22: r = 0.70, p = 0.1856, s = 0.60, sp = 0.2848, 2sig=No, 3sig=No\n",
      "reg.23: r = 0.44, p = 0.3852, s = 0.37, sp = 0.4685, 2sig=No, 3sig=No\n",
      "reg.24: r = 0.39, p = 0.3030, s = 0.75, sp = 0.0199, 2sig=No, 3sig=No\n",
      "reg.25: r = 0.84, p = 0.0047, s = 0.67, sp = 0.0499, 2sig=Yes, 3sig=No\n",
      "reg.26: r = 0.06, p = 0.8913, s = 0.21, sp = 0.6103, 2sig=No, 3sig=No\n",
      "reg.27: r = 0.68, p = 0.0452, s = 0.57, sp = 0.1116, 2sig=Yes, 3sig=No\n",
      "reg.28: r = 1.00, p = 0.0000, s = 1.00, sp = nan, 2sig=Yes, 3sig=Yes\n",
      "reg.29: r = 0.62, p = 0.1039, s = 0.83, sp = 0.0102, 2sig=No, 3sig=No\n"
     ]
    }
   ],
   "source": [
    "r = []\n",
    "p = []\n",
    "sig2 = []\n",
    "sig3 = []\n",
    "s = []\n",
    "sp = []\n",
    "for i in range(29):\n",
    "    r.append(pearsonr(h_data[i],s_data[i])[0]) \n",
    "    p.append(pearsonr(h_data[i],s_data[i])[1])\n",
    "    s.append(spearmanr(h_data[i],s_data[i])[0])\n",
    "    sp.append(spearmanr(h_data[i],s_data[i])[1])\n",
    "    if p[i] <(100 - 99.73)/100: #see if 3sigma confident\n",
    "        sig3.append(\"Yes\")\n",
    "    else:\n",
    "        sig3.append(\"No\")\n",
    "    if p[i] <(100 - 95.44)/100:\n",
    "        sig2.append(\"Yes\")\n",
    "    else:\n",
    "        sig2.append(\"No\")\n",
    "    print(\"reg.{}: r = {:.2f}, p = {:.4f}, s = {:.2f}, sp = {:.4f}, 2sig={}, 3sig={}\".format(i+1,r[i],p[i],s[i],sp[i],sig2[i],sig3[i]))\n",
    "    \n",
    "    label = \"r = {:.2f}, p = {:.4f}\".format(r[i],p[i])\n",
    "    fig = plt.figure()\n",
    "    ax = fig.add_subplot(111)\n",
    "    plt.scatter(h_data[i], s_data[i])\n",
    "#     plt.errorbar(h_data[i], s_data[i], xerr = h_error[i], yerr = s_error[i], fmt = \"o\")\n",
    "    plt.text(0.1,0.9,label, transform=ax.transAxes, bbox=dict(facecolor='white', alpha = 0.7))\n",
    "    plt.xlabel(\"$\\gamma$-ray Excess Counts\")\n",
    "    plt.ylabel(\"X-ray Excess Counts\")\n",
    "    plt.ylim(0,1.1*np.max(s_data[i]))\n",
    "    plt.title(\"Region {:d}\".format(i+1))\n",
    "    plt.savefig(\"correlation_study_data/plots2/suzakuNR_gam_2_reg\" + str(i+1) + \".pdf\")\n",
    "    plt.close()"
   ]
  },
  {
   "cell_type": "code",
   "execution_count": 130,
   "metadata": {},
   "outputs": [
    {
     "data": {
      "image/png": "[encoded data removed]",
      "text/plain": [
       "<Figure size 432x288 with 1 Axes>"
      ]
     },
     "metadata": {},
     "output_type": "display_data"
    }
   ],
   "source": [
    "plt.hist(r,11, range=[-1,1])\n",
    "plt.hist(s,11, range=[-1,1], color = 'y', alpha = 0.3)\n",
    "plt.xlabel(\"Pearson Correlation Coefficient\")\n",
    "plt.ylabel(\"Number of Regions\")\n",
    "plt.show()"
   ]
  },
  {
   "cell_type": "code",
   "execution_count": null,
   "metadata": {},
   "outputs": [],
   "source": []
  },
  {
   "cell_type": "code",
   "execution_count": 121,
   "metadata": {},
   "outputs": [
    {
     "data": {
      "image/png": "[encoded data removed]",
      "text/plain": [
       "<Figure size 432x288 with 2 Axes>"
      ]
     },
     "metadata": {},
     "output_type": "display_data"
    }
   ],
   "source": [
    "hdu = fits.open('fitsfiles/rxj1713_pearson_suz_mHI.fits')\n",
    "image_data = hdu[0].data\n",
    "image_header = hdu[0].header\n",
    "\n",
    "for i in range(image_data.shape[0]):\n",
    "    for j in range(image_data.shape[1]):\n",
    "        if image_data[i][j] == -10:\n",
    "            image_data[i][j] = np.nan\n",
    "            \n",
    "reg = r\n",
    "image_data[6][2] = reg[0]\n",
    "image_data[6][3] = reg[1]\n",
    "image_data[6][4] = reg[2]\n",
    "image_data[6][5] = reg[3]\n",
    "\n",
    "image_data[5][1] = reg[4]\n",
    "image_data[5][2] = reg[5]\n",
    "image_data[5][3] = reg[6]\n",
    "image_data[5][4] = reg[7]\n",
    "image_data[5][5] = reg[8]\n",
    "image_data[5][6] = reg[9]\n",
    "\n",
    "image_data[4][1] = reg[10]\n",
    "image_data[4][2] = reg[11]\n",
    "image_data[4][3] = reg[12]\n",
    "image_data[4][4] = reg[13]\n",
    "image_data[4][5] = reg[14]\n",
    "image_data[4][6] = reg[15]\n",
    "\n",
    "image_data[3][1] = reg[16]\n",
    "image_data[3][2] = reg[17]\n",
    "image_data[3][3] = reg[18]\n",
    "image_data[3][4] = reg[19]\n",
    "image_data[3][5] = reg[20]\n",
    "image_data[3][6] = reg[21]\n",
    "\n",
    "image_data[2][1] = reg[22]\n",
    "image_data[2][2] = reg[23]\n",
    "image_data[2][3] = reg[24]\n",
    "image_data[2][4] = reg[25]\n",
    "image_data[2][5] = reg[26]\n",
    "\n",
    "image_data[1][3] = 0.0 #this region only had 2 data points after removing noise etc\n",
    "image_data[1][4] = reg[28]\n",
    "\n",
    "\n",
    "fig = plt.figure()\n",
    "\n",
    "wcs = WCS(image_header)\n",
    "ax = WCSAxes(fig, [0,0,1,1], wcs= wcs)\n",
    "fig.add_axes(ax)\n",
    "\n",
    "ra = ax.coords[0]\n",
    "dec = ax.coords[1]\n",
    "\n",
    "#format axes\n",
    "ra.set_major_formatter('d.d')\n",
    "dec.set_major_formatter('d.dd')\n",
    "\n",
    "plt.xlabel('Right Ascension $^o$')\n",
    "plt.ylabel('Declination $^0$')\n",
    "\n",
    "plt.imshow(image_data, cmap=plt.cm.RdYlBu, vmin =-1, vmax = 1)\n",
    "cbar = plt.colorbar()\n",
    "cbar.set_label('Pearson Correlation Coefficient', rotation=270, labelpad=20)\n",
    "\n",
    "plt.xlim(0,7)\n",
    "plt.ylim(0,7) #flip y-axis\n",
    "\n",
    "#Regions with significance > 2sigma\n",
    "plt.text(3.2,6.13,'*',fontsize=16)\n",
    "plt.text(5.2,6.13,'*',fontsize=16)\n",
    "plt.text(6.2,5.13,'*',fontsize=16)\n",
    "\n",
    "plt.text(2.3,6.37,'.',fontsize=18)\n",
    "plt.text(5.3,5.37,'.',fontsize=18)\n",
    "plt.text(1.3,4.37,'.',fontsize=18)\n",
    "plt.text(3.3,4.37,'.',fontsize=18)\n",
    "plt.text(5.3,4.37,'.',fontsize=18)\n",
    "plt.text(2.3,3.37,'.',fontsize=18)\n",
    "plt.text(5.3,3.37,'.',fontsize=18)\n",
    "plt.text(3.3,2.37,'.',fontsize=18)\n",
    "plt.text(5.3,2.37,'.',fontsize=18)\n",
    "\n",
    "plt.text(2.76,0.81,'x',fontsize=30)\n",
    "\n",
    "\n",
    "plt.savefig('correlation_study_data/output/pearsonmap_gam_suz.ps')\n",
    "\n",
    "plt.show()"
   ]
  },
  {
   "cell_type": "code",
   "execution_count": null,
   "metadata": {},
   "outputs": [],
   "source": []
  }
 ],
 "metadata": {
  "kernelspec": {
   "display_name": "Python 3",
   "language": "python",
   "name": "python3"
  },
  "language_info": {
   "codemirror_mode": {
    "name": "ipython",
    "version": 3
   },
   "file_extension": ".py",
   "mimetype": "text/x-python",
   "name": "python",
   "nbconvert_exporter": "python",
   "pygments_lexer": "ipython3",
   "version": "3.6.5"
  }
 },
 "nbformat": 4,
 "nbformat_minor": 2
}
