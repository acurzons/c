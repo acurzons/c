{
 "cells": [
  {
   "cell_type": "code",
   "execution_count": 130,
   "metadata": {},
   "outputs": [],
   "source": [
    "import pandas as pd\n",
    "import numpy as np\n",
    "\n",
    "import matplotlib.pyplot as plt\n",
    "import matplotlib.cm as cm\n",
    "from matplotlib.colors import LogNorm\n",
    "import matplotlib.patches as mpatches\n",
    "\n",
    "from astropy.io import fits\n",
    "from astropy.wcs import WCS, utils\n",
    "from astropy.visualization.wcsaxes import WCSAxes\n",
    "from astropy.coordinates import SkyCoord, Galactic\n",
    "from astropy import units as u\n",
    "from astropy import coordinates as coord\n",
    "from astropy.utils.data import get_pkg_data_filename\n",
    "\n",
    "import pyregion\n",
    "from pyregion.mpl_helper import properties_func_default\n",
    "\n",
    "from scipy import ndimage, interpolate"
   ]
  },
  {
   "cell_type": "code",
   "execution_count": 303,
   "metadata": {},
   "outputs": [
    {
     "data": {
      "text/plain": [
       "array([( 0.30048135, 1.57925421e-03, 'Yes'),\n",
       "       (-0.25278276, 2.67975874e-03, 'Yes'),\n",
       "       (-0.18353954, 3.88742550e-02, 'No'),\n",
       "       ( 0.13506567, 1.31575714e-01, 'No'),\n",
       "       ( 0.28811598, 6.18192345e-03, 'No'),\n",
       "       ( 0.21504141, 9.90295446e-03, 'No'),\n",
       "       ( 0.2558319 , 7.87423929e-04, 'Yes'),\n",
       "       (-0.16468841, 4.12472011e-02, 'No'),\n",
       "       ( 0.14678569, 5.68607114e-02, 'No'),\n",
       "       ( 0.33091608, 1.25412213e-05, 'Yes'),\n",
       "       ( 0.21306731, 2.28419961e-02, 'No'),\n",
       "       ( 0.21062644, 6.96010302e-03, 'No'),\n",
       "       (-0.17465016, 2.35584335e-02, 'No'),\n",
       "       ( 0.03772088, 6.29451571e-01, 'No'),\n",
       "       ( 0.11742849, 1.28383824e-01, 'No'),\n",
       "       (-0.04612249, 5.51536409e-01, 'No'),\n",
       "       ( 0.07307883, 4.52275927e-01, 'No'),\n",
       "       ( 0.12347227, 1.15220526e-01, 'No'),\n",
       "       ( 0.02071695, 7.89818626e-01, 'No'),\n",
       "       ( 0.07306411, 4.19985638e-01, 'No'),\n",
       "       ( 0.68782604, 5.17154373e-25, 'Yes'),\n",
       "       (-0.12936282, 1.97285858e-01, 'No'),\n",
       "       (-0.19229801, 5.91582206e-02, 'No'),\n",
       "       (-0.21772295, 6.67824895e-03, 'No'),\n",
       "       (-0.07969102, 3.03041263e-01, 'No'),\n",
       "       ( 0.13131012, 8.88043468e-02, 'No'),\n",
       "       ( 0.5265351 , 1.94129068e-13, 'Yes'),\n",
       "       (-0.0844916 , 6.94667329e-01, 'No'),\n",
       "       (-0.3947819 , 6.22583959e-06, 'Yes')],\n",
       "      dtype=[('A', '<f8'), ('B', '<f8'), ('C', '<U5')])"
      ]
     },
     "execution_count": 303,
     "metadata": {},
     "output_type": "execute_result"
    }
   ],
   "source": [
    "hdu = fits.open('fitsfiles/rxj1713_pearson_suz_mHI.fits')\n",
    "hdu2 = fits.open('fitsfiles/rxj1713_pearson_suz_mHI.fits')\n",
    "image_data = hdu[0].data\n",
    "image_data2 = hdu2[0].data\n",
    "image_header = hdu[0].header\n",
    "\n",
    "for i in range(image_data.shape[0]):\n",
    "    for j in range(image_data.shape[1]):\n",
    "        if image_data[i][j] == -10:\n",
    "            image_data[i][j] = np.nan\n",
    "            image_data2[i][j] = np.nan\n",
    "\n",
    "results = np.loadtxt('correlation_study_data/output/suzaku_mopHI.txt', skiprows=1, dtype={'names': ('A','B','C'),'formats': ('float', 'float', 'U5')})\n",
    "\n",
    "reg = np.empty(29)\n",
    "reg2 = [\"\" for j in range(29)]\n",
    "for i in range(len(results)):\n",
    "    reg[i] = results[i][0]\n",
    "    if results[i][1] <(100 - 95.44)/100:\n",
    "        reg2[i] = 1\n",
    "    else:\n",
    "        reg2[i] = -1\n",
    "    \n",
    "results\n",
    "    "
   ]
  },
  {
   "cell_type": "code",
   "execution_count": 299,
   "metadata": {},
   "outputs": [],
   "source": [
    "image_data[6][2] = reg[0]\n",
    "image_data[6][3] = reg[1]\n",
    "image_data[6][4] = reg[2]\n",
    "image_data[6][5] = reg[3]\n",
    "\n",
    "image_data[5][1] = reg[4]\n",
    "image_data[5][2] = reg[5]\n",
    "image_data[5][3] = reg[6]\n",
    "image_data[5][4] = reg[7]\n",
    "image_data[5][5] = reg[8]\n",
    "image_data[5][6] = reg[9]\n",
    "\n",
    "image_data[4][1] = reg[10]\n",
    "image_data[4][2] = reg[11]\n",
    "image_data[4][3] = reg[12]\n",
    "image_data[4][4] = reg[13]\n",
    "image_data[4][5] = reg[14]\n",
    "image_data[4][6] = reg[15]\n",
    "\n",
    "image_data[3][1] = reg[16]\n",
    "image_data[3][2] = reg[17]\n",
    "image_data[3][3] = reg[18]\n",
    "image_data[3][4] = reg[19]\n",
    "image_data[3][5] = reg[20]\n",
    "image_data[3][6] = reg[21]\n",
    "\n",
    "image_data[2][1] = reg[22]\n",
    "image_data[2][2] = reg[23]\n",
    "image_data[2][3] = reg[24]\n",
    "image_data[2][4] = reg[25]\n",
    "image_data[2][5] = reg[26]\n",
    "\n",
    "image_data[1][3] = reg[27]\n",
    "image_data[1][4] = reg[28]"
   ]
  },
  {
   "cell_type": "code",
   "execution_count": 305,
   "metadata": {},
   "outputs": [],
   "source": [
    "\n",
    "image_data2[6][2] = reg2[0]\n",
    "image_data2[6][3] = reg2[1]\n",
    "image_data2[6][4] = reg2[2]\n",
    "image_data2[6][5] = reg2[3]\n",
    "\n",
    "image_data2[5][1] = reg2[4]\n",
    "image_data2[5][2] = reg2[5]\n",
    "image_data2[5][3] = reg2[6]\n",
    "image_data2[5][4] = reg2[7]\n",
    "image_data2[5][5] = reg2[8]\n",
    "image_data2[5][6] = reg2[9]\n",
    "\n",
    "image_data2[4][1] = reg2[10]\n",
    "image_data2[4][2] = reg2[11]\n",
    "image_data2[4][3] = reg2[12]\n",
    "image_data2[4][4] = reg2[13]\n",
    "image_data2[4][5] = reg2[14]\n",
    "image_data2[4][6] = reg2[15]\n",
    "\n",
    "image_data2[3][1] = reg2[16]\n",
    "image_data2[3][2] = reg2[17]\n",
    "image_data2[3][3] = reg2[18]\n",
    "image_data2[3][4] = reg2[19]\n",
    "image_data2[3][5] = reg2[20]\n",
    "image_data2[3][6] = reg2[21]\n",
    "\n",
    "image_data2[2][1] = reg2[22]\n",
    "image_data2[2][2] = reg2[23]\n",
    "image_data2[2][3] = reg2[24]\n",
    "image_data2[2][4] = reg2[25]\n",
    "image_data2[2][5] = reg2[26]\n",
    "\n",
    "image_data2[1][3] = reg2[27]\n",
    "image_data2[1][4] = reg2[28]"
   ]
  },
  {
   "cell_type": "code",
   "execution_count": 309,
   "metadata": {},
   "outputs": [
    {
     "data": {
      "image/png": "[encoded data removed]",
      "text/plain": [
       "<Figure size 432x288 with 1 Axes>"
      ]
     },
     "metadata": {},
     "output_type": "display_data"
    }
   ],
   "source": [
    "data = [i for i in image_data.flatten() if i > -2.0]\n",
    "plt.hist(data,10, range=[-1,1])\n",
    "plt.xlabel(\"Pearson Correlation Coefficient\")\n",
    "plt.ylabel(\"Number of Regions\")\n",
    "plt.show()"
   ]
  },
  {
   "cell_type": "code",
   "execution_count": null,
   "metadata": {},
   "outputs": [],
   "source": []
  },
  {
   "cell_type": "code",
   "execution_count": 316,
   "metadata": {},
   "outputs": [
    {
     "data": {
      "image/png": "[encoded data removed]",
      "text/plain": [
       "<Figure size 360x360 with 2 Axes>"
      ]
     },
     "metadata": {},
     "output_type": "display_data"
    }
   ],
   "source": [
    "fig = plt.figure(figsize=(5,5), facecolor='white')\n",
    "\n",
    "\n",
    "wcs = WCS(image_header)\n",
    "ax = WCSAxes(fig, [0,0,1,1], wcs= wcs)\n",
    "fig.add_axes(ax)\n",
    "\n",
    "ra = ax.coords['ra']\n",
    "dec = ax.coords['dec']\n",
    "\n",
    "#format axes\n",
    "ra.set_major_formatter('d.d')\n",
    "dec.set_major_formatter('d.dd')\n",
    "\n",
    "plt.xlabel('Right Ascension $^o$')\n",
    "plt.ylabel('Declination $^0$')\n",
    "\n",
    "plt.imshow(image_data, cmap=plt.cm.RdYlBu, vmin =-1, vmax = 1)\n",
    "cbar = plt.colorbar()\n",
    "cbar.set_label('Pearson Correlation Coefficient', rotation=270, labelpad=20)\n",
    "\n",
    "plt.xlim(0,7)\n",
    "plt.ylim(0,7) #flip y-axis\n",
    "\n",
    "#Regions with significance > 3sigma\n",
    "plt.text(2.3,6.37,'.',fontsize=18)\n",
    "plt.text(3.3,6.37,'.',fontsize=18)\n",
    "plt.text(3.3,5.37,'.',fontsize=18)\n",
    "plt.text(6.3,5.37,'.',fontsize=18)\n",
    "plt.text(5.3,3.37,'.',fontsize=18)\n",
    "plt.text(5.3,2.37,'.',fontsize=18)\n",
    "plt.text(4.3,1.37,'.',fontsize=18)\n",
    "\n",
    "plt.savefig('correlation_study_data/output/pearsonmap_suz_mopHI.ps')\n",
    "\n",
    "plt.show()\n"
   ]
  },
  {
   "cell_type": "code",
   "execution_count": 312,
   "metadata": {},
   "outputs": [
    {
     "data": {
      "image/png": "[encoded data removed]",
      "text/plain": [
       "<Figure size 432x288 with 2 Axes>"
      ]
     },
     "metadata": {},
     "output_type": "display_data"
    }
   ],
   "source": [
    "#Blue regions indicate significance >2sigma\n",
    "fig = plt.figure()\n",
    "\n",
    "\n",
    "wcs = WCS(image_header)\n",
    "ax = WCSAxes(fig, [0,0,1,1], wcs= wcs)\n",
    "fig.add_axes(ax)\n",
    "\n",
    "ra = ax.coords[0]\n",
    "dec = ax.coords[1]\n",
    "\n",
    "#format axes\n",
    "ra.set_major_formatter('d.d')\n",
    "dec.set_major_formatter('d.dd')\n",
    "\n",
    "plt.xlabel('Right Ascension $^o$')\n",
    "plt.ylabel('Declination $^0$')\n",
    "\n",
    "plt.imshow(image_data2, cmap=plt.cm.RdYlBu, vmin =-1, vmax = 1)\n",
    "cbar = plt.colorbar()\n",
    "cbar.set_label('Significance', rotation=270, labelpad=20)\n",
    "\n",
    "plt.xlim(0,7)\n",
    "plt.ylim(0,7) #flip y-axis\n",
    "\n",
    "plt.show()"
   ]
  },
  {
   "cell_type": "code",
   "execution_count": null,
   "metadata": {},
   "outputs": [],
   "source": []
  },
  {
   "cell_type": "code",
   "execution_count": null,
   "metadata": {},
   "outputs": [],
   "source": []
  }
 ],
 "metadata": {
  "kernelspec": {
   "display_name": "Python 3",
   "language": "python",
   "name": "python3"
  },
  "language_info": {
   "codemirror_mode": {
    "name": "ipython",
    "version": 3
   },
   "file_extension": ".py",
   "mimetype": "text/x-python",
   "name": "python",
   "nbconvert_exporter": "python",
   "pygments_lexer": "ipython3",
   "version": "3.6.5"
  }
 },
 "nbformat": 4,
 "nbformat_minor": 2
}
