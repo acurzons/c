{
 "cells": [
  {
   "cell_type": "code",
   "execution_count": 20,
   "metadata": {},
   "outputs": [],
   "source": [
    "import pandas as pd\n",
    "import numpy as np\n",
    "\n",
    "import matplotlib.pyplot as plt\n",
    "import matplotlib.cm as cm\n",
    "from matplotlib.colors import LogNorm\n",
    "import matplotlib.patches as mpatches\n",
    "\n",
    "from astropy.io import fits\n",
    "from astropy.wcs import WCS, utils\n",
    "from astropy.visualization.wcsaxes import WCSAxes\n",
    "from astropy.coordinates import SkyCoord, Galactic\n",
    "from astropy import units as u\n",
    "from astropy import coordinates as coord\n",
    "from astropy.utils.data import get_pkg_data_filename\n",
    "\n",
    "import pyregion\n",
    "from pyregion.mpl_helper import properties_func_default\n",
    "\n",
    "from scipy import ndimage, interpolate"
   ]
  },
  {
   "cell_type": "code",
   "execution_count": 21,
   "metadata": {},
   "outputs": [],
   "source": [
    "hdu = fits.open('fitsfiles/rxj1713_pearson_suz_mHI.fits')\n",
    "image_data = hdu[0].data\n",
    "image_header = hdu[0].header\n",
    "\n",
    "for i in range(image_data.shape[0]):\n",
    "    for j in range(image_data.shape[1]):\n",
    "        if image_data[i][j] == -10:\n",
    "            image_data[i][j] = np.nan\n",
    "\n",
    "results = np.loadtxt('correlation_study_data/output/gamma_mopHI.txt', skiprows=1, dtype={'names': ('A','B','C'),'formats': ('float', 'float', 'U5')})\n",
    "\n",
    "reg = np.empty(29)\n",
    "# reg2 = [\"\" for j in range(29)]\n",
    "for i in range(len(results)):\n",
    "    reg[i] = results[i][0]\n",
    "#     #indicate which regions have a significance >2sig\n",
    "#     if results[i][1] <(100 - 95.44)/100:\n",
    "#         reg2[i] = 1\n",
    "#     else:\n",
    "#         reg2[i] = -1\n",
    "    "
   ]
  },
  {
   "cell_type": "code",
   "execution_count": 22,
   "metadata": {},
   "outputs": [],
   "source": [
    "image_data[6][2] = reg[0]\n",
    "image_data[6][3] = reg[1]\n",
    "image_data[6][4] = reg[2]\n",
    "image_data[6][5] = reg[3]\n",
    "\n",
    "image_data[5][1] = reg[4]\n",
    "image_data[5][2] = reg[5]\n",
    "image_data[5][3] = reg[6]\n",
    "image_data[5][4] = reg[7]\n",
    "image_data[5][5] = reg[8]\n",
    "image_data[5][6] = reg[9]\n",
    "\n",
    "image_data[4][1] = reg[10]\n",
    "image_data[4][2] = reg[11]\n",
    "image_data[4][3] = reg[12]\n",
    "image_data[4][4] = reg[13]\n",
    "image_data[4][5] = reg[14]\n",
    "image_data[4][6] = reg[15]\n",
    "\n",
    "image_data[3][1] = reg[16]\n",
    "image_data[3][2] = reg[17]\n",
    "image_data[3][3] = reg[18]\n",
    "image_data[3][4] = reg[19]\n",
    "image_data[3][5] = reg[20]\n",
    "image_data[3][6] = reg[21]\n",
    "\n",
    "image_data[2][1] = reg[22]\n",
    "image_data[2][2] = reg[23]\n",
    "image_data[2][3] = reg[24]\n",
    "image_data[2][4] = reg[25]\n",
    "image_data[2][5] = reg[26]\n",
    "\n",
    "image_data[1][3] = reg[27]\n",
    "image_data[1][4] = reg[28]"
   ]
  },
  {
   "cell_type": "code",
   "execution_count": 26,
   "metadata": {},
   "outputs": [
    {
     "data": {
      "image/png": "[encoded data removed]",
      "text/plain": [
       "<Figure size 432x288 with 1 Axes>"
      ]
     },
     "metadata": {},
     "output_type": "display_data"
    }
   ],
   "source": [
    "data = [i for i in image_data.flatten() if i > -2.0]\n",
    "plt.hist(data,11, range=[-1,1])\n",
    "plt.xlabel(\"Pearson Correlation Coefficient\")\n",
    "plt.ylabel(\"Number of Regions\")\n",
    "plt.show()"
   ]
  },
  {
   "cell_type": "code",
   "execution_count": 58,
   "metadata": {},
   "outputs": [
    {
     "data": {
      "image/png": "[encoded data removed]",
      "text/plain": [
       "<Figure size 360x324 with 2 Axes>"
      ]
     },
     "metadata": {},
     "output_type": "display_data"
    }
   ],
   "source": [
    "fig = plt.figure(figsize=(5,4.5))\n",
    "\n",
    "\n",
    "wcs = WCS(image_header)\n",
    "ax = WCSAxes(fig, [0,0,1,1], wcs= wcs)\n",
    "fig.add_axes(ax)\n",
    "\n",
    "ra = ax.coords['ra']\n",
    "dec = ax.coords['dec']\n",
    "\n",
    "#format axes\n",
    "ra.set_major_formatter('d.d')\n",
    "dec.set_major_formatter('d.dd')\n",
    "\n",
    "plt.xlabel('Right Ascension / deg')\n",
    "plt.ylabel('Declination / deg')\n",
    "\n",
    "plt.imshow(image_data, cmap=plt.cm.RdYlBu, vmin =-1, vmax = 1, rasterized=True)\n",
    "cbar = plt.colorbar()\n",
    "cbar.set_label('Pearson Correlation Coefficient', rotation=270, labelpad=20)\n",
    "\n",
    "plt.xlim(0,7)\n",
    "plt.ylim(0,7) #flip y-axis\n",
    "\n",
    "#Regions with significance > 2sigma\n",
    "plt.text(4.1,6.17,'*',fontsize=18)\n",
    "plt.text(5.1,6.07,'o',fontsize=18)\n",
    "plt.text(4.3,4.37,'.',fontsize=18)\n",
    "plt.text(6.3,4.37,'.',fontsize=18)\n",
    "\n",
    "plt.savefig('correlation_study_data/output/pearsonmap_gam_mopHI.ps', bbox_inches='tight', pad_inches=0.06)\n",
    "\n",
    "plt.show()\n"
   ]
  },
  {
   "cell_type": "markdown",
   "metadata": {},
   "source": [
    "# "
   ]
  }
 ],
 "metadata": {
  "kernelspec": {
   "display_name": "Python 3",
   "language": "python",
   "name": "python3"
  },
  "language_info": {
   "codemirror_mode": {
    "name": "ipython",
    "version": 3
   },
   "file_extension": ".py",
   "mimetype": "text/x-python",
   "name": "python",
   "nbconvert_exporter": "python",
   "pygments_lexer": "ipython3",
   "version": "3.6.5"
  }
 },
 "nbformat": 4,
 "nbformat_minor": 2
}
