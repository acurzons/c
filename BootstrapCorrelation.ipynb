{
 "cells": [
  {
   "cell_type": "code",
   "execution_count": 5,
   "metadata": {},
   "outputs": [],
   "source": [
    "import numpy as np\n",
    "import matplotlib.pyplot as plt\n",
    "from scipy.stats import pearsonr\n",
    "from scipy.optimize import curve_fit\n",
    "from scipy import stats"
   ]
  },
  {
   "cell_type": "markdown",
   "metadata": {},
   "source": [
    "# Uncertainty of Correlation Coefficient\n",
    "\n",
    "... due to uncertainty of data points."
   ]
  },
  {
   "cell_type": "code",
   "execution_count": 108,
   "metadata": {},
   "outputs": [],
   "source": [
    "def korr(x,y,xerr,yerr,plot=False):\n",
    "    \n",
    "    # Calculate the pearsons coef, but allow the data to lie within the normally distributed error range\n",
    "    xx = np.random.normal(x,xerr)\n",
    "    yy = np.random.normal(y,yerr)\n",
    "    \n",
    "    if plot==True:\n",
    "        label1 = \"$\\\\rho$ = {:.2f}\".format(pearsonr(x,y)[0])\n",
    "        label2 = \"$\\\\rho$ = {:.2f}\".format(pearsonr(xx/1.e21,yy)[0])\n",
    "        plt.errorbar(x, y, xerr=xerr, yerr=yerr, fmt='o', label = label1)\n",
    "        plt.errorbar(xx, yy, xerr=xerr, yerr=yerr, fmt='o', label = label2)\n",
    "        plt.xlabel(\"$N_p$ Column Density (cm$^{-2}$)\")\n",
    "        plt.ylabel(\"$\\gamma$-ray Excess Counts\")\n",
    "        plt.legend(loc=2)\n",
    "        plt.savefig(\"bootstrap_example.ps\", bbox_inches='tight', pad_inches=0.06)\n",
    "        plt.show()\n",
    "        print(pearsonr(xx,yy))\n",
    "    \n",
    "    return pearsonr(xx,yy)[0]"
   ]
  },
  {
   "cell_type": "code",
   "execution_count": 64,
   "metadata": {},
   "outputs": [],
   "source": [
    "# Put your data here\n",
    "data = np.loadtxt(\"correlation_study_data/gamma_mopraHI_data/reg1.txt\", skiprows=1)\n",
    "\n",
    "gas = data[:,1] * 1.e21\n",
    "xray = data[:,0]\n",
    "\n",
    "gas_err = data[:,3] *1.e21\n",
    "xray_err = data[:,2]"
   ]
  },
  {
   "cell_type": "code",
   "execution_count": 109,
   "metadata": {},
   "outputs": [
    {
     "data": {
      "image/png": "[encoded data removed]",
      "text/plain": [
       "<Figure size 432x288 with 1 Axes>"
      ]
     },
     "metadata": {},
     "output_type": "display_data"
    },
    {
     "name": "stdout",
     "output_type": "stream",
     "text": [
      "(0.5389849352479934, 0.13429268107054065)\n"
     ]
    },
    {
     "data": {
      "text/plain": [
       "0.5389849352479934"
      ]
     },
     "execution_count": 109,
     "metadata": {},
     "output_type": "execute_result"
    }
   ],
   "source": [
    "korr(gas, xray, gas_err, xray_err, True)"
   ]
  },
  {
   "cell_type": "code",
   "execution_count": 61,
   "metadata": {},
   "outputs": [
    {
     "data": {
      "image/png": "[encoded data removed]",
      "text/plain": [
       "<Figure size 432x288 with 1 Axes>"
      ]
     },
     "metadata": {},
     "output_type": "display_data"
    },
    {
     "name": "stdout",
     "output_type": "stream",
     "text": [
      "0.7755120988736562\n"
     ]
    }
   ],
   "source": [
    "k = []\n",
    "for i in range(100000):\n",
    "    k.append(korr(gas,xray,gas_err,xray_err))\n",
    "\n",
    "plt.hist(k, bins=111, range=[-1,1]) #zoom in near pearson value otherwise can't see distribution?\n",
    "# 3 sigma\n",
    "plt.axvline(np.percentile(k, (100.0 - 99.73)/2.0), color='black', ls=\"--\",)\n",
    "plt.axvline(np.percentile(k, (100.0 - (100.0 - 99.73)/2.0)), color='black', ls=\"--\")\n",
    "\n",
    "# 5 sigma\n",
    "plt.axvline(np.percentile(k, (100.0 - 99.99994)/2.0), color='black', ls=\":\")\n",
    "plt.axvline(np.percentile(k, (100.0 - (100.0 - 99.99994)/2.0)), color='black', ls=\":\")\n",
    "\n",
    "# correlation of original data set\n",
    "plt.axvline(pearsonr(xray, gas)[0], color='black')\n",
    "plt.axvline(np.percentile(k,50), color = 'red')\n",
    "\n",
    "plt.show()\n",
    "print(np.percentile(k, (100.0 - (100.0 - 99.73)/2.0)))"
   ]
  },
  {
   "cell_type": "markdown",
   "metadata": {},
   "source": [
    "--> One could use (correlation coefficient + uncertainty) as some extreme value like \"in the most optimistic case (uncertainty of Z sigma), the most extreme correlation coefficient is X.\" And then use this extreme value in the following to determine the corresponding p-value."
   ]
  },
  {
   "cell_type": "code",
   "execution_count": 60,
   "metadata": {},
   "outputs": [
    {
     "name": "stdout",
     "output_type": "stream",
     "text": [
      "0.48278179834161883\n",
      "0.47658695640354803\n",
      "0.5218632663076397\n"
     ]
    }
   ],
   "source": [
    "print(np.percentile(k,50))\n",
    "print(np.mean(k))\n",
    "print(pearsonr(gas, xray)[0])"
   ]
  },
  {
   "cell_type": "markdown",
   "metadata": {},
   "source": [
    "# p-value"
   ]
  },
  {
   "cell_type": "code",
   "execution_count": 30,
   "metadata": {},
   "outputs": [],
   "source": [
    "def korr2(x_mean, x_sigm, y_mean, y_sigm, number):\n",
    "    \n",
    "    x = np.random.normal(x_mean,x_sigm,number)\n",
    "    y = np.random.normal(y_mean,y_sigm,number)\n",
    "    \n",
    "    return pearsonr(x,y)[0]"
   ]
  },
  {
   "cell_type": "code",
   "execution_count": 58,
   "metadata": {},
   "outputs": [
    {
     "name": "stdout",
     "output_type": "stream",
     "text": [
      "6.506080444444444 3.8496055807687655 10.507278111111113 8.339865803397004\n"
     ]
    }
   ],
   "source": [
    "# Make some assumptions about your data\n",
    "# For example that they are normal distributed with specific values\n",
    "# Specifiy the values\n",
    "\n",
    "x_mean = np.mean(gas)\n",
    "x_sigm = np.std(gas)\n",
    "y_mean = np.mean(xray)\n",
    "y_sigm = np.std(xray)\n",
    "number = len(xray)\n",
    "\n",
    "print(x_mean, x_sigm, y_mean, y_sigm)"
   ]
  },
  {
   "cell_type": "markdown",
   "metadata": {},
   "source": [
    "--> Decide a confidence level for your test if the data is correlated and determine the corresponding correlation coefficient. Then check if your optimistic value is larger (then it is correlated wrt to the CL) or smaller. You can also quote the p-value then."
   ]
  },
  {
   "cell_type": "code",
   "execution_count": 59,
   "metadata": {},
   "outputs": [
    {
     "name": "stdout",
     "output_type": "stream",
     "text": [
      "2 sigma 0.6760007262866461\n",
      "3 sigma 0.8608339134136412\n",
      "5 sigma 0.9767186463782889\n"
     ]
    },
    {
     "data": {
      "image/png": "[encoded data removed]",
      "text/plain": [
       "<Figure size 432x288 with 1 Axes>"
      ]
     },
     "metadata": {},
     "output_type": "display_data"
    }
   ],
   "source": [
    "# This is basically finding the probablity distribution of the pearson coefficient, \n",
    "# assuming the data were distributed normally \n",
    "kk = []\n",
    "for i in range(100000):\n",
    "    kk.append(korr2(x_mean, x_sigm, y_mean, y_sigm, number))\n",
    "  \n",
    "\n",
    "plt.hist(np.abs(kk), bins=81, range=[0,1])\n",
    "\n",
    "print('2 sigma', np.percentile(np.abs(kk),95.449))\n",
    "print('3 sigma', np.percentile(np.abs(kk),99.73))\n",
    "print('5 sigma', np.percentile(np.abs(kk),99.99994))\n",
    "\n",
    "plt.show()"
   ]
  },
  {
   "cell_type": "code",
   "execution_count": 33,
   "metadata": {},
   "outputs": [
    {
     "name": "stdout",
     "output_type": "stream",
     "text": [
      "0.3344698484927691\n",
      "0.32439504262213165\n"
     ]
    }
   ],
   "source": [
    "# A check of the method\n",
    "# Compare if bootstrap result is consistent with Pearson result\n",
    "print(np.abs(pearsonr(xray,gas)[0]))\n",
    "print(np.percentile(np.abs(kk),100-pearsonr(xray,gas)[1]*100.))"
   ]
  },
  {
   "cell_type": "code",
   "execution_count": null,
   "metadata": {},
   "outputs": [],
   "source": []
  }
 ],
 "metadata": {
  "kernelspec": {
   "display_name": "Python 3",
   "language": "python",
   "name": "python3"
  },
  "language_info": {
   "codemirror_mode": {
    "name": "ipython",
    "version": 3
   },
   "file_extension": ".py",
   "mimetype": "text/x-python",
   "name": "python",
   "nbconvert_exporter": "python",
   "pygments_lexer": "ipython3",
   "version": "3.6.5"
  }
 },
 "nbformat": 4,
 "nbformat_minor": 2
}
