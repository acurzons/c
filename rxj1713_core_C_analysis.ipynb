{
 "cells": [
  {
   "cell_type": "code",
   "execution_count": 95,
   "metadata": {},
   "outputs": [],
   "source": [
    "import numpy as np\n",
    "from astropy.io import fits\n",
    "from astropy import units as u\n",
    "from astropy import coordinates as coord\n",
    "from astropy.coordinates import ICRS, Galactic, FK4, FK5\n",
    "import matplotlib.pyplot as plt\n",
    "import matplotlib.cm as cm\n",
    "from astropy.wcs import WCS\n",
    "from astropy.visualization.wcsaxes import WCSAxes\n",
    "from matplotlib.patches import Rectangle\n",
    "from scipy.stats import pearsonr\n",
    "from scipy.stats import spearmanr\n",
    "from BootstrapCorrelation import korr, korr2\n",
    "from astropy.io import ascii"
   ]
  },
  {
   "cell_type": "code",
   "execution_count": 27,
   "metadata": {},
   "outputs": [
    {
     "name": "stderr",
     "output_type": "stream",
     "text": [
      "WARNING: VerifyWarning: Invalid 'BLANK' keyword in header.  The 'BLANK' keyword is only applicable to integer data, and will be ignored in this HDU. [astropy.io.fits.hdu.image]\n"
     ]
    }
   ],
   "source": [
    "filename1 = '../DS9/rxj1713_suz_0.5res.fits'\n",
    "hdu1 = fits.open(filename1)\n",
    "suzaku_data = hdu1[0].data\n",
    "\n",
    "filename2 = '../DS9/rxj1713_mopHI_05res.fits'\n",
    "hdu2 = fits.open(filename2)\n",
    "Np_mop_data = hdu2[0].data"
   ]
  },
  {
   "cell_type": "code",
   "execution_count": 109,
   "metadata": {},
   "outputs": [],
   "source": [
    "# x1 = Np_mop_data[64,127:130].flatten()\n",
    "# x2 = Np_mop_data[65,124:133].flatten()\n",
    "# x3 = Np_mop_data[66,125:132].flatten()\n",
    "x4 = Np_mop_data[67,124:133].flatten()\n",
    "x5 = Np_mop_data[68,124:133].flatten()\n",
    "x6 = Np_mop_data[69,124:133].flatten()\n",
    "x7 = Np_mop_data[70,124:134].flatten()\n",
    "x8 = Np_mop_data[71,124:134].flatten()\n",
    "x9 = Np_mop_data[72,124:134].flatten()\n",
    "# x10 = Np_mop_data[73,125:132].flatten()\n",
    "# x11 = Np_mop_data[74,124:133].flatten()\n",
    "# x12 = Np_mop_data[75,127:130].flatten()\n",
    "x = np.hstack((x4,x5,x6,x7,x8,x9))\n",
    "\n",
    "# y1 = suzaku_data[64,127:130].flatten()\n",
    "# y2 = suzaku_data[65,124:133].flatten()\n",
    "# y3 = suzaku_data[66,125:132].flatten()\n",
    "y4 = suzaku_data[67,124:133].flatten()\n",
    "y5 = suzaku_data[68,124:133].flatten()\n",
    "y6 = suzaku_data[69,124:133].flatten()\n",
    "y7 = suzaku_data[70,124:134].flatten()\n",
    "y8 = suzaku_data[71,124:134].flatten()\n",
    "y9 = suzaku_data[72,124:134].flatten()\n",
    "# y10 = suzaku_data[73,125:132].flatten()\n",
    "# y11 = suzaku_data[74,124:133].flatten()\n",
    "# y12 = suzaku_data[75,127:130].flatten()\n",
    "y = np.hstack((y4,y5,y6,y7,y8,y9))"
   ]
  },
  {
   "cell_type": "code",
   "execution_count": 124,
   "metadata": {},
   "outputs": [
    {
     "name": "stdout",
     "output_type": "stream",
     "text": [
      "------------------\n",
      "Actual value -0.29686043\n",
      "Spearman value -0.2869830379264341\n",
      "Extreme value (3 sigma uncertainty) -0.46038050781349116 0.1717463921977318\n",
      "3 sigma 0.4000313709561798\n",
      "5 sigma 0.5086740465891674\n"
     ]
    },
    {
     "data": {
      "image/png": "[encoded data removed]",
      "text/plain": [
       "<Figure size 432x288 with 1 Axes>"
      ]
     },
     "metadata": {},
     "output_type": "display_data"
    }
   ],
   "source": [
    "# Obtain data points corresponding to core C\n",
    "\n",
    "y1 = suzaku_data[71:74,125:134].flatten()\n",
    "y2 = suzaku_data[68:71,124:133].flatten()\n",
    "y = np.hstack((y1,y2))\n",
    "y = y.flatten()\n",
    "x1 = Np_mop_data[71:74,125:134].flatten()\n",
    "x2 = Np_mop_data[68:71,124:133].flatten()\n",
    "x = np.hstack((x1,x2))\n",
    "x = x.flatten()\n",
    "\n",
    "#calculate the error for the individual suzaku data and the gas data\n",
    "# Trms might need updating for mopra\n",
    "y_error = 0.4*y/np.sqrt(4.0)\n",
    "x_error = np.ones(len(x)) * (2. * 2.e20 * 2.8**0.5 / 100**0.5 * 0.7 * (20.0/0.11)**0.5 + 1.9 * (20.0/0.82)**0.5 * 1.828e18 * 2.8**0.5)\n",
    "\n",
    "k = []\n",
    "kk = []\n",
    "for i in range(10000):\n",
    "    k.append(korr(x,y,x_error,y_error))\n",
    "    kk.append(korr2(np.mean(x/1.e21), np.std(x/1.e21), np.mean(y), np.std(y), len(x)))\n",
    "    \n",
    "print('------------------')\n",
    "print('Actual value', pearsonr(x/1.e21,y)[0])\n",
    "print('Spearman value', spearmanr(x/1.e21,y)[0])\n",
    "print('Extreme value (3 sigma uncertainty)', np.percentile(k, (100-99.73)/2.0), np.percentile(k, 100 - (100 - 99.73)/2.0))\n",
    "print('3 sigma', np.percentile(np.abs(kk), 99.73))\n",
    "print('5 sigma', np.percentile(np.abs(kk), 99.99994))\n",
    "plt.hist(k, bins=111, range=[-1,1])\n",
    "#     plt.axvline(np.percentile(k[i], (100-68.26)/2.0), color ='k', ls='--', label = '1$\\sigma$')\n",
    "#     plt.axvline(np.percentile(k[i], 100 - (100-68.26)/2.0), color ='k', ls='--')\n",
    "plt.axvline(np.percentile(k, (100-95.45)/2.0), color ='k', ls=':', label = '2$\\sigma$')\n",
    "plt.axvline(np.percentile(k, 100 - (100-95.45)/2.0), color ='k', ls=':')\n",
    "plt.axvline(np.percentile(k, (100-99.73)/2.0), color ='k', ls='--', label = '3$\\sigma$')\n",
    "plt.axvline(np.percentile(k, 100 - (100-99.73)/2.0), color ='k', ls='--')\n",
    "plt.axvline(pearsonr(x/1.e21,y)[0], color = 'red', ls = \"-\")\n",
    "plt.legend(loc='best')\n",
    "plt.xlabel(\"Pearson Correlation Coefficient\")\n",
    "plt.ylabel(\"Frequency\")\n",
    "plt.show()\n",
    "\n"
   ]
  },
  {
   "cell_type": "code",
   "execution_count": null,
   "metadata": {},
   "outputs": [],
   "source": []
  },
  {
   "cell_type": "code",
   "execution_count": null,
   "metadata": {},
   "outputs": [],
   "source": []
  },
  {
   "cell_type": "code",
   "execution_count": null,
   "metadata": {},
   "outputs": [],
   "source": []
  },
  {
   "cell_type": "code",
   "execution_count": null,
   "metadata": {},
   "outputs": [],
   "source": []
  },
  {
   "cell_type": "code",
   "execution_count": null,
   "metadata": {},
   "outputs": [],
   "source": []
  },
  {
   "cell_type": "code",
   "execution_count": null,
   "metadata": {},
   "outputs": [],
   "source": []
  }
 ],
 "metadata": {
  "kernelspec": {
   "display_name": "Python 3",
   "language": "python",
   "name": "python3"
  },
  "language_info": {
   "codemirror_mode": {
    "name": "ipython",
    "version": 3
   },
   "file_extension": ".py",
   "mimetype": "text/x-python",
   "name": "python",
   "nbconvert_exporter": "python",
   "pygments_lexer": "ipython3",
   "version": "3.6.5"
  }
 },
 "nbformat": 4,
 "nbformat_minor": 2
}
